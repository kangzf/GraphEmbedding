{
 "cells": [
  {
   "cell_type": "code",
   "execution_count": 1,
   "metadata": {
    "collapsed": true
   },
   "outputs": [],
   "source": [
    "#####**************** put this file at the same file with .gexf files, and then run *********##########\n",
    "\n",
    "import networkx as nx\n",
    "import numpy as np\n",
    "import os"
   ]
  },
  {
   "cell_type": "code",
   "execution_count": 2,
   "metadata": {},
   "outputs": [
    {
     "name": "stdout",
     "output_type": "stream",
     "text": [
      "600\n",
      "{'enzymes_0.gexf': 37, 'enzymes_1.gexf': 23, 'enzymes_10.gexf': 4, 'enzymes_100.gexf': 45, 'enzymes_101.gexf': 42, 'enzymes_102.gexf': 59, 'enzymes_103.gexf': 32, 'enzymes_104.gexf': 33, 'enzymes_105.gexf': 17, 'enzymes_106.gexf': 39, 'enzymes_107.gexf': 38, 'enzymes_108.gexf': 35, 'enzymes_109.gexf': 16, 'enzymes_11.gexf': 14, 'enzymes_110.gexf': 26, 'enzymes_111.gexf': 51, 'enzymes_112.gexf': 52, 'enzymes_113.gexf': 25, 'enzymes_114.gexf': 27, 'enzymes_115.gexf': 42, 'enzymes_116.gexf': 46, 'enzymes_117.gexf': 96, 'enzymes_118.gexf': 12, 'enzymes_119.gexf': 22, 'enzymes_12.gexf': 42, 'enzymes_120.gexf': 42, 'enzymes_121.gexf': 14, 'enzymes_122.gexf': 90, 'enzymes_123.gexf': 14, 'enzymes_124.gexf': 14, 'enzymes_125.gexf': 32, 'enzymes_126.gexf': 11, 'enzymes_127.gexf': 26, 'enzymes_128.gexf': 11, 'enzymes_129.gexf': 14, 'enzymes_13.gexf': 41, 'enzymes_130.gexf': 18, 'enzymes_131.gexf': 16, 'enzymes_132.gexf': 17, 'enzymes_133.gexf': 32, 'enzymes_134.gexf': 13, 'enzymes_135.gexf': 3, 'enzymes_136.gexf': 22, 'enzymes_137.gexf': 16, 'enzymes_138.gexf': 38, 'enzymes_139.gexf': 13, 'enzymes_14.gexf': 36, 'enzymes_140.gexf': 12, 'enzymes_141.gexf': 14, 'enzymes_142.gexf': 39, 'enzymes_143.gexf': 19, 'enzymes_144.gexf': 20, 'enzymes_145.gexf': 39, 'enzymes_146.gexf': 40, 'enzymes_147.gexf': 39, 'enzymes_148.gexf': 39, 'enzymes_149.gexf': 29, 'enzymes_15.gexf': 55, 'enzymes_150.gexf': 22, 'enzymes_151.gexf': 11, 'enzymes_152.gexf': 8, 'enzymes_153.gexf': 13, 'enzymes_154.gexf': 18, 'enzymes_155.gexf': 12, 'enzymes_156.gexf': 8, 'enzymes_157.gexf': 40, 'enzymes_158.gexf': 12, 'enzymes_159.gexf': 22, 'enzymes_16.gexf': 40, 'enzymes_160.gexf': 22, 'enzymes_161.gexf': 18, 'enzymes_162.gexf': 12, 'enzymes_163.gexf': 17, 'enzymes_164.gexf': 14, 'enzymes_165.gexf': 22, 'enzymes_166.gexf': 43, 'enzymes_167.gexf': 42, 'enzymes_168.gexf': 44, 'enzymes_169.gexf': 24, 'enzymes_17.gexf': 38, 'enzymes_170.gexf': 48, 'enzymes_171.gexf': 25, 'enzymes_172.gexf': 46, 'enzymes_173.gexf': 48, 'enzymes_174.gexf': 25, 'enzymes_175.gexf': 48, 'enzymes_176.gexf': 44, 'enzymes_177.gexf': 42, 'enzymes_178.gexf': 40, 'enzymes_179.gexf': 38, 'enzymes_18.gexf': 2, 'enzymes_180.gexf': 40, 'enzymes_181.gexf': 41, 'enzymes_182.gexf': 42, 'enzymes_183.gexf': 40, 'enzymes_184.gexf': 44, 'enzymes_185.gexf': 24, 'enzymes_186.gexf': 44, 'enzymes_187.gexf': 20, 'enzymes_188.gexf': 42, 'enzymes_189.gexf': 27, 'enzymes_19.gexf': 35, 'enzymes_190.gexf': 48, 'enzymes_191.gexf': 31, 'enzymes_192.gexf': 30, 'enzymes_193.gexf': 46, 'enzymes_194.gexf': 47, 'enzymes_195.gexf': 50, 'enzymes_196.gexf': 40, 'enzymes_197.gexf': 55, 'enzymes_198.gexf': 62, 'enzymes_199.gexf': 34, 'enzymes_2.gexf': 25, 'enzymes_20.gexf': 42, 'enzymes_200.gexf': 29, 'enzymes_201.gexf': 25, 'enzymes_202.gexf': 56, 'enzymes_203.gexf': 57, 'enzymes_204.gexf': 27, 'enzymes_205.gexf': 22, 'enzymes_206.gexf': 24, 'enzymes_207.gexf': 23, 'enzymes_208.gexf': 57, 'enzymes_209.gexf': 24, 'enzymes_21.gexf': 41, 'enzymes_210.gexf': 24, 'enzymes_211.gexf': 23, 'enzymes_212.gexf': 25, 'enzymes_213.gexf': 23, 'enzymes_214.gexf': 48, 'enzymes_215.gexf': 27, 'enzymes_216.gexf': 15, 'enzymes_217.gexf': 44, 'enzymes_218.gexf': 29, 'enzymes_219.gexf': 21, 'enzymes_22.gexf': 39, 'enzymes_220.gexf': 34, 'enzymes_221.gexf': 30, 'enzymes_222.gexf': 40, 'enzymes_223.gexf': 54, 'enzymes_224.gexf': 18, 'enzymes_225.gexf': 36, 'enzymes_226.gexf': 37, 'enzymes_227.gexf': 34, 'enzymes_228.gexf': 23, 'enzymes_229.gexf': 32, 'enzymes_23.gexf': 42, 'enzymes_230.gexf': 33, 'enzymes_231.gexf': 29, 'enzymes_232.gexf': 39, 'enzymes_233.gexf': 34, 'enzymes_234.gexf': 36, 'enzymes_235.gexf': 21, 'enzymes_236.gexf': 6, 'enzymes_237.gexf': 22, 'enzymes_238.gexf': 18, 'enzymes_239.gexf': 18, 'enzymes_24.gexf': 41, 'enzymes_240.gexf': 34, 'enzymes_241.gexf': 32, 'enzymes_242.gexf': 33, 'enzymes_243.gexf': 28, 'enzymes_244.gexf': 40, 'enzymes_245.gexf': 42, 'enzymes_246.gexf': 39, 'enzymes_247.gexf': 28, 'enzymes_248.gexf': 29, 'enzymes_249.gexf': 30, 'enzymes_25.gexf': 40, 'enzymes_250.gexf': 14, 'enzymes_251.gexf': 32, 'enzymes_252.gexf': 35, 'enzymes_253.gexf': 24, 'enzymes_254.gexf': 17, 'enzymes_255.gexf': 18, 'enzymes_256.gexf': 16, 'enzymes_257.gexf': 19, 'enzymes_258.gexf': 19, 'enzymes_259.gexf': 21, 'enzymes_26.gexf': 37, 'enzymes_260.gexf': 23, 'enzymes_261.gexf': 25, 'enzymes_262.gexf': 27, 'enzymes_263.gexf': 24, 'enzymes_264.gexf': 24, 'enzymes_265.gexf': 32, 'enzymes_266.gexf': 31, 'enzymes_267.gexf': 33, 'enzymes_268.gexf': 34, 'enzymes_269.gexf': 32, 'enzymes_27.gexf': 23, 'enzymes_270.gexf': 32, 'enzymes_271.gexf': 44, 'enzymes_272.gexf': 40, 'enzymes_273.gexf': 40, 'enzymes_274.gexf': 38, 'enzymes_275.gexf': 30, 'enzymes_276.gexf': 38, 'enzymes_277.gexf': 44, 'enzymes_278.gexf': 60, 'enzymes_279.gexf': 28, 'enzymes_28.gexf': 22, 'enzymes_280.gexf': 16, 'enzymes_281.gexf': 50, 'enzymes_282.gexf': 52, 'enzymes_283.gexf': 48, 'enzymes_284.gexf': 50, 'enzymes_285.gexf': 42, 'enzymes_286.gexf': 43, 'enzymes_287.gexf': 41, 'enzymes_288.gexf': 39, 'enzymes_289.gexf': 38, 'enzymes_29.gexf': 34, 'enzymes_290.gexf': 62, 'enzymes_291.gexf': 60, 'enzymes_292.gexf': 96, 'enzymes_293.gexf': 54, 'enzymes_294.gexf': 124, 'enzymes_295.gexf': 126, 'enzymes_296.gexf': 122, 'enzymes_297.gexf': 24, 'enzymes_298.gexf': 41, 'enzymes_299.gexf': 49, 'enzymes_3.gexf': 24, 'enzymes_30.gexf': 38, 'enzymes_300.gexf': 44, 'enzymes_301.gexf': 42, 'enzymes_302.gexf': 41, 'enzymes_303.gexf': 42, 'enzymes_304.gexf': 46, 'enzymes_305.gexf': 55, 'enzymes_306.gexf': 50, 'enzymes_307.gexf': 42, 'enzymes_308.gexf': 48, 'enzymes_309.gexf': 51, 'enzymes_31.gexf': 38, 'enzymes_310.gexf': 24, 'enzymes_311.gexf': 51, 'enzymes_312.gexf': 52, 'enzymes_313.gexf': 22, 'enzymes_314.gexf': 44, 'enzymes_315.gexf': 44, 'enzymes_316.gexf': 31, 'enzymes_317.gexf': 27, 'enzymes_318.gexf': 25, 'enzymes_319.gexf': 38, 'enzymes_32.gexf': 39, 'enzymes_320.gexf': 21, 'enzymes_321.gexf': 29, 'enzymes_322.gexf': 20, 'enzymes_323.gexf': 21, 'enzymes_324.gexf': 50, 'enzymes_325.gexf': 46, 'enzymes_326.gexf': 49, 'enzymes_327.gexf': 27, 'enzymes_328.gexf': 12, 'enzymes_329.gexf': 14, 'enzymes_33.gexf': 8, 'enzymes_330.gexf': 23, 'enzymes_331.gexf': 24, 'enzymes_332.gexf': 33, 'enzymes_333.gexf': 27, 'enzymes_334.gexf': 25, 'enzymes_335.gexf': 28, 'enzymes_336.gexf': 28, 'enzymes_337.gexf': 12, 'enzymes_338.gexf': 26, 'enzymes_339.gexf': 28, 'enzymes_34.gexf': 23, 'enzymes_340.gexf': 28, 'enzymes_341.gexf': 26, 'enzymes_342.gexf': 24, 'enzymes_343.gexf': 23, 'enzymes_344.gexf': 27, 'enzymes_345.gexf': 39, 'enzymes_346.gexf': 42, 'enzymes_347.gexf': 42, 'enzymes_348.gexf': 64, 'enzymes_349.gexf': 38, 'enzymes_35.gexf': 42, 'enzymes_350.gexf': 22, 'enzymes_351.gexf': 9, 'enzymes_352.gexf': 26, 'enzymes_353.gexf': 19, 'enzymes_354.gexf': 66, 'enzymes_355.gexf': 27, 'enzymes_356.gexf': 34, 'enzymes_357.gexf': 28, 'enzymes_358.gexf': 26, 'enzymes_359.gexf': 26, 'enzymes_36.gexf': 42, 'enzymes_360.gexf': 28, 'enzymes_361.gexf': 19, 'enzymes_362.gexf': 20, 'enzymes_363.gexf': 20, 'enzymes_364.gexf': 42, 'enzymes_365.gexf': 42, 'enzymes_366.gexf': 15, 'enzymes_367.gexf': 11, 'enzymes_368.gexf': 10, 'enzymes_369.gexf': 12, 'enzymes_37.gexf': 100, 'enzymes_370.gexf': 30, 'enzymes_371.gexf': 15, 'enzymes_372.gexf': 10, 'enzymes_373.gexf': 18, 'enzymes_374.gexf': 22, 'enzymes_375.gexf': 12, 'enzymes_376.gexf': 36, 'enzymes_377.gexf': 30, 'enzymes_378.gexf': 30, 'enzymes_379.gexf': 36, 'enzymes_38.gexf': 24, 'enzymes_380.gexf': 33, 'enzymes_381.gexf': 48, 'enzymes_382.gexf': 27, 'enzymes_383.gexf': 27, 'enzymes_384.gexf': 16, 'enzymes_385.gexf': 7, 'enzymes_386.gexf': 16, 'enzymes_387.gexf': 35, 'enzymes_388.gexf': 28, 'enzymes_389.gexf': 40, 'enzymes_39.gexf': 24, 'enzymes_390.gexf': 26, 'enzymes_391.gexf': 48, 'enzymes_392.gexf': 15, 'enzymes_393.gexf': 11, 'enzymes_394.gexf': 50, 'enzymes_395.gexf': 18, 'enzymes_396.gexf': 19, 'enzymes_397.gexf': 14, 'enzymes_398.gexf': 21, 'enzymes_399.gexf': 37, 'enzymes_4.gexf': 23, 'enzymes_40.gexf': 47, 'enzymes_400.gexf': 48, 'enzymes_401.gexf': 25, 'enzymes_402.gexf': 28, 'enzymes_403.gexf': 33, 'enzymes_404.gexf': 29, 'enzymes_405.gexf': 33, 'enzymes_406.gexf': 30, 'enzymes_407.gexf': 33, 'enzymes_408.gexf': 32, 'enzymes_409.gexf': 28, 'enzymes_41.gexf': 45, 'enzymes_410.gexf': 37, 'enzymes_411.gexf': 36, 'enzymes_412.gexf': 38, 'enzymes_413.gexf': 37, 'enzymes_414.gexf': 34, 'enzymes_415.gexf': 24, 'enzymes_416.gexf': 25, 'enzymes_417.gexf': 41, 'enzymes_418.gexf': 27, 'enzymes_419.gexf': 26, 'enzymes_42.gexf': 45, 'enzymes_420.gexf': 25, 'enzymes_421.gexf': 27, 'enzymes_422.gexf': 20, 'enzymes_423.gexf': 40, 'enzymes_424.gexf': 21, 'enzymes_425.gexf': 19, 'enzymes_426.gexf': 36, 'enzymes_427.gexf': 32, 'enzymes_428.gexf': 28, 'enzymes_429.gexf': 37, 'enzymes_43.gexf': 45, 'enzymes_430.gexf': 18, 'enzymes_431.gexf': 19, 'enzymes_432.gexf': 22, 'enzymes_433.gexf': 43, 'enzymes_434.gexf': 24, 'enzymes_435.gexf': 15, 'enzymes_436.gexf': 14, 'enzymes_437.gexf': 48, 'enzymes_438.gexf': 46, 'enzymes_439.gexf': 26, 'enzymes_44.gexf': 46, 'enzymes_440.gexf': 25, 'enzymes_441.gexf': 44, 'enzymes_442.gexf': 39, 'enzymes_443.gexf': 39, 'enzymes_444.gexf': 27, 'enzymes_445.gexf': 26, 'enzymes_446.gexf': 25, 'enzymes_447.gexf': 39, 'enzymes_448.gexf': 26, 'enzymes_449.gexf': 26, 'enzymes_45.gexf': 44, 'enzymes_450.gexf': 26, 'enzymes_451.gexf': 34, 'enzymes_452.gexf': 20, 'enzymes_453.gexf': 20, 'enzymes_454.gexf': 19, 'enzymes_455.gexf': 18, 'enzymes_456.gexf': 33, 'enzymes_457.gexf': 15, 'enzymes_458.gexf': 34, 'enzymes_459.gexf': 28, 'enzymes_46.gexf': 30, 'enzymes_460.gexf': 34, 'enzymes_461.gexf': 15, 'enzymes_462.gexf': 14, 'enzymes_463.gexf': 20, 'enzymes_464.gexf': 52, 'enzymes_465.gexf': 20, 'enzymes_466.gexf': 20, 'enzymes_467.gexf': 20, 'enzymes_468.gexf': 17, 'enzymes_469.gexf': 12, 'enzymes_47.gexf': 32, 'enzymes_470.gexf': 24, 'enzymes_471.gexf': 46, 'enzymes_472.gexf': 13, 'enzymes_473.gexf': 24, 'enzymes_474.gexf': 12, 'enzymes_475.gexf': 12, 'enzymes_476.gexf': 14, 'enzymes_477.gexf': 20, 'enzymes_478.gexf': 28, 'enzymes_479.gexf': 24, 'enzymes_48.gexf': 33, 'enzymes_480.gexf': 12, 'enzymes_481.gexf': 26, 'enzymes_482.gexf': 22, 'enzymes_483.gexf': 60, 'enzymes_484.gexf': 39, 'enzymes_485.gexf': 26, 'enzymes_486.gexf': 15, 'enzymes_487.gexf': 25, 'enzymes_488.gexf': 35, 'enzymes_489.gexf': 35, 'enzymes_49.gexf': 9, 'enzymes_490.gexf': 38, 'enzymes_491.gexf': 38, 'enzymes_492.gexf': 33, 'enzymes_493.gexf': 32, 'enzymes_494.gexf': 42, 'enzymes_495.gexf': 42, 'enzymes_496.gexf': 41, 'enzymes_497.gexf': 40, 'enzymes_498.gexf': 38, 'enzymes_499.gexf': 43, 'enzymes_5.gexf': 24, 'enzymes_50.gexf': 27, 'enzymes_500.gexf': 67, 'enzymes_501.gexf': 36, 'enzymes_502.gexf': 46, 'enzymes_503.gexf': 66, 'enzymes_504.gexf': 21, 'enzymes_505.gexf': 22, 'enzymes_506.gexf': 21, 'enzymes_507.gexf': 21, 'enzymes_508.gexf': 41, 'enzymes_509.gexf': 29, 'enzymes_51.gexf': 39, 'enzymes_510.gexf': 30, 'enzymes_511.gexf': 30, 'enzymes_512.gexf': 41, 'enzymes_513.gexf': 37, 'enzymes_514.gexf': 26, 'enzymes_515.gexf': 37, 'enzymes_516.gexf': 50, 'enzymes_517.gexf': 27, 'enzymes_518.gexf': 34, 'enzymes_519.gexf': 32, 'enzymes_52.gexf': 16, 'enzymes_520.gexf': 35, 'enzymes_521.gexf': 37, 'enzymes_522.gexf': 48, 'enzymes_523.gexf': 41, 'enzymes_524.gexf': 29, 'enzymes_525.gexf': 58, 'enzymes_526.gexf': 57, 'enzymes_527.gexf': 21, 'enzymes_528.gexf': 18, 'enzymes_529.gexf': 42, 'enzymes_53.gexf': 18, 'enzymes_530.gexf': 40, 'enzymes_531.gexf': 74, 'enzymes_532.gexf': 44, 'enzymes_533.gexf': 44, 'enzymes_534.gexf': 40, 'enzymes_535.gexf': 44, 'enzymes_536.gexf': 42, 'enzymes_537.gexf': 43, 'enzymes_538.gexf': 41, 'enzymes_539.gexf': 49, 'enzymes_54.gexf': 7, 'enzymes_540.gexf': 84, 'enzymes_541.gexf': 44, 'enzymes_542.gexf': 42, 'enzymes_543.gexf': 41, 'enzymes_544.gexf': 41, 'enzymes_545.gexf': 44, 'enzymes_546.gexf': 39, 'enzymes_547.gexf': 25, 'enzymes_548.gexf': 25, 'enzymes_549.gexf': 26, 'enzymes_55.gexf': 18, 'enzymes_550.gexf': 52, 'enzymes_551.gexf': 41, 'enzymes_552.gexf': 45, 'enzymes_553.gexf': 31, 'enzymes_554.gexf': 26, 'enzymes_555.gexf': 26, 'enzymes_556.gexf': 52, 'enzymes_557.gexf': 50, 'enzymes_558.gexf': 38, 'enzymes_559.gexf': 37, 'enzymes_56.gexf': 10, 'enzymes_560.gexf': 27, 'enzymes_561.gexf': 29, 'enzymes_562.gexf': 48, 'enzymes_563.gexf': 40, 'enzymes_564.gexf': 19, 'enzymes_565.gexf': 14, 'enzymes_566.gexf': 13, 'enzymes_567.gexf': 13, 'enzymes_568.gexf': 44, 'enzymes_569.gexf': 45, 'enzymes_57.gexf': 21, 'enzymes_570.gexf': 46, 'enzymes_571.gexf': 47, 'enzymes_572.gexf': 47, 'enzymes_573.gexf': 42, 'enzymes_574.gexf': 51, 'enzymes_575.gexf': 27, 'enzymes_576.gexf': 27, 'enzymes_577.gexf': 60, 'enzymes_578.gexf': 28, 'enzymes_579.gexf': 38, 'enzymes_58.gexf': 18, 'enzymes_580.gexf': 23, 'enzymes_581.gexf': 18, 'enzymes_582.gexf': 45, 'enzymes_583.gexf': 21, 'enzymes_584.gexf': 35, 'enzymes_585.gexf': 24, 'enzymes_586.gexf': 21, 'enzymes_587.gexf': 21, 'enzymes_588.gexf': 31, 'enzymes_589.gexf': 27, 'enzymes_59.gexf': 10, 'enzymes_590.gexf': 51, 'enzymes_591.gexf': 36, 'enzymes_592.gexf': 46, 'enzymes_593.gexf': 52, 'enzymes_594.gexf': 44, 'enzymes_595.gexf': 45, 'enzymes_596.gexf': 52, 'enzymes_597.gexf': 55, 'enzymes_598.gexf': 51, 'enzymes_599.gexf': 48, 'enzymes_6.gexf': 26, 'enzymes_60.gexf': 9, 'enzymes_61.gexf': 39, 'enzymes_62.gexf': 33, 'enzymes_63.gexf': 29, 'enzymes_64.gexf': 24, 'enzymes_65.gexf': 25, 'enzymes_66.gexf': 30, 'enzymes_67.gexf': 38, 'enzymes_68.gexf': 28, 'enzymes_69.gexf': 28, 'enzymes_7.gexf': 88, 'enzymes_70.gexf': 38, 'enzymes_71.gexf': 40, 'enzymes_72.gexf': 40, 'enzymes_73.gexf': 42, 'enzymes_74.gexf': 20, 'enzymes_75.gexf': 19, 'enzymes_76.gexf': 16, 'enzymes_77.gexf': 17, 'enzymes_78.gexf': 20, 'enzymes_79.gexf': 18, 'enzymes_8.gexf': 23, 'enzymes_80.gexf': 33, 'enzymes_81.gexf': 23, 'enzymes_82.gexf': 23, 'enzymes_83.gexf': 35, 'enzymes_84.gexf': 33, 'enzymes_85.gexf': 39, 'enzymes_86.gexf': 40, 'enzymes_87.gexf': 38, 'enzymes_88.gexf': 40, 'enzymes_89.gexf': 38, 'enzymes_9.gexf': 32, 'enzymes_90.gexf': 37, 'enzymes_91.gexf': 36, 'enzymes_92.gexf': 34, 'enzymes_93.gexf': 34, 'enzymes_94.gexf': 32, 'enzymes_95.gexf': 18, 'enzymes_96.gexf': 32, 'enzymes_97.gexf': 34, 'enzymes_98.gexf': 30, 'enzymes_99.gexf': 5}\n"
     ]
    }
   ],
   "source": [
    "count = 0\n",
    "num_nodes = {}\n",
    "for filename in os.listdir(\".\"):\n",
    "    if filename.endswith(\".gexf\"):\n",
    "        G = nx.read_gexf(filename)\n",
    "        num_nodes[filename] = len(G) \n",
    "        count +=1\n",
    "print(count)\n",
    "print(num_nodes)\n"
   ]
  },
  {
   "cell_type": "code",
   "execution_count": 3,
   "metadata": {},
   "outputs": [
    {
     "name": "stdout",
     "output_type": "stream",
     "text": [
      "600\n",
      "[37, 23, 4, 45, 42, 59, 32, 33, 17, 39, 38, 35, 16, 14, 26, 51, 52, 25, 27, 42, 46, 96, 12, 22, 42, 42, 14, 90, 14, 14, 32, 11, 26, 11, 14, 41, 18, 16, 17, 32, 13, 3, 22, 16, 38, 13, 36, 12, 14, 39, 19, 20, 39, 40, 39, 39, 29, 55, 22, 11, 8, 13, 18, 12, 8, 40, 12, 22, 40, 22, 18, 12, 17, 14, 22, 43, 42, 44, 24, 38, 48, 25, 46, 48, 25, 48, 44, 42, 40, 38, 2, 40, 41, 42, 40, 44, 24, 44, 20, 42, 27, 35, 48, 31, 30, 46, 47, 50, 40, 55, 62, 34, 25, 42, 29, 25, 56, 57, 27, 22, 24, 23, 57, 24, 41, 24, 23, 25, 23, 48, 27, 15, 44, 29, 21, 39, 34, 30, 40, 54, 18, 36, 37, 34, 23, 32, 42, 33, 29, 39, 34, 36, 21, 6, 22, 18, 18, 41, 34, 32, 33, 28, 40, 42, 39, 28, 29, 30, 40, 14, 32, 35, 24, 17, 18, 16, 19, 19, 21, 37, 23, 25, 27, 24, 24, 32, 31, 33, 34, 32, 23, 32, 44, 40, 40, 38, 30, 38, 44, 60, 28, 22, 16, 50, 52, 48, 50, 42, 43, 41, 39, 38, 34, 62, 60, 96, 54, 124, 126, 122, 24, 41, 49, 24, 38, 44, 42, 41, 42, 46, 55, 50, 42, 48, 51, 38, 24, 51, 52, 22, 44, 44, 31, 27, 25, 38, 39, 21, 29, 20, 21, 50, 46, 49, 27, 12, 14, 8, 23, 24, 33, 27, 25, 28, 28, 12, 26, 28, 23, 28, 26, 24, 23, 27, 39, 42, 42, 64, 38, 42, 22, 9, 26, 19, 66, 27, 34, 28, 26, 26, 42, 28, 19, 20, 20, 42, 42, 15, 11, 10, 12, 100, 30, 15, 10, 18, 22, 12, 36, 30, 30, 36, 24, 33, 48, 27, 27, 16, 7, 16, 35, 28, 40, 24, 26, 48, 15, 11, 50, 18, 19, 14, 21, 37, 23, 47, 48, 25, 28, 33, 29, 33, 30, 33, 32, 28, 45, 37, 36, 38, 37, 34, 24, 25, 41, 27, 26, 45, 25, 27, 20, 40, 21, 19, 36, 32, 28, 37, 45, 18, 19, 22, 43, 24, 15, 14, 48, 46, 26, 46, 25, 44, 39, 39, 27, 26, 25, 39, 26, 26, 44, 26, 34, 20, 20, 19, 18, 33, 15, 34, 28, 30, 34, 15, 14, 20, 52, 20, 20, 20, 17, 12, 32, 24, 46, 13, 24, 12, 12, 14, 20, 28, 24, 33, 12, 26, 22, 60, 39, 26, 15, 25, 35, 35, 9, 38, 38, 33, 32, 42, 42, 41, 40, 38, 43, 24, 27, 67, 36, 46, 66, 21, 22, 21, 21, 41, 29, 39, 30, 30, 41, 37, 26, 37, 50, 27, 34, 32, 16, 35, 37, 48, 41, 29, 58, 57, 21, 18, 42, 18, 40, 74, 44, 44, 40, 44, 42, 43, 41, 49, 7, 84, 44, 42, 41, 41, 44, 39, 25, 25, 26, 18, 52, 41, 45, 31, 26, 26, 52, 50, 38, 37, 10, 27, 29, 48, 40, 19, 14, 13, 13, 44, 45, 21, 46, 47, 47, 42, 51, 27, 27, 60, 28, 38, 18, 23, 18, 45, 21, 35, 24, 21, 21, 31, 27, 10, 51, 36, 46, 52, 44, 45, 52, 55, 51, 48, 26, 9, 39, 33, 29, 24, 25, 30, 38, 28, 28, 88, 38, 40, 40, 42, 20, 19, 16, 17, 20, 18, 23, 33, 23, 23, 35, 33, 39, 40, 38, 40, 38, 32, 37, 36, 34, 34, 32, 18, 32, 34, 30, 5]\n"
     ]
    }
   ],
   "source": [
    "num_list = list(num_nodes.values())\n",
    "print(len(num_list))\n",
    "print(num_list)"
   ]
  },
  {
   "cell_type": "code",
   "execution_count": 4,
   "metadata": {},
   "outputs": [
    {
     "name": "stdout",
     "output_type": "stream",
     "text": [
      "126\n",
      "['enzymes_295.gexf']\n"
     ]
    }
   ],
   "source": [
    "max_size = max(num_list)\n",
    "print(max_size)\n",
    "max_size_enzymes = [k for k,v in num_nodes.items() if v == max_size]\n",
    "print(max_size_enzymes)"
   ]
  },
  {
   "cell_type": "code",
   "execution_count": 5,
   "metadata": {},
   "outputs": [
    {
     "name": "stdout",
     "output_type": "stream",
     "text": [
      "2\n",
      "['enzymes_18.gexf']\n"
     ]
    }
   ],
   "source": [
    "min_size = min(num_list)\n",
    "print(min_size)\n",
    "min_size_enzymes = [k for k,v in num_nodes.items() if v == min_size]\n",
    "print(min_size_enzymes)"
   ]
  },
  {
   "cell_type": "code",
   "execution_count": 6,
   "metadata": {},
   "outputs": [
    {
     "name": "stdout",
     "output_type": "stream",
     "text": [
      "15.2757614831\n"
     ]
    }
   ],
   "source": [
    "print(np.std(num_list))"
   ]
  },
  {
   "cell_type": "code",
   "execution_count": 7,
   "metadata": {},
   "outputs": [
    {
     "name": "stdout",
     "output_type": "stream",
     "text": [
      "32.6333333333\n"
     ]
    }
   ],
   "source": [
    "print(np.mean(num_list))"
   ]
  },
  {
   "cell_type": "code",
   "execution_count": 8,
   "metadata": {},
   "outputs": [
    {
     "name": "stdout",
     "output_type": "stream",
     "text": [
      "[0, 1, 2, 3, 4, 5, 6, 7, 8, 9, 10, 11, 12, 13, 14, 15, 16, 17, 18, 19, 20, 21, 22, 23, 24, 25, 26, 27, 28, 29, 30, 31, 32, 33, 34, 35, 36, 37, 38, 39, 40, 41, 42, 43, 44, 45, 46, 47, 48, 49, 50, 51, 52, 53, 54, 55, 56, 57, 58, 59, 60, 61, 62, 63, 64, 65, 66, 67, 68, 69, 70, 71, 72, 73, 74, 75, 76, 77, 78, 79, 80, 81, 82, 83, 84, 85, 86, 87, 88, 89, 90, 91, 92, 93, 94, 95, 96, 97, 98, 99, 100, 101, 102, 103, 104, 105, 106, 107, 108, 109, 110, 111, 112, 113, 114, 115, 116, 117, 118, 119, 120, 121, 122, 123, 124, 125, 126]\n",
      "[0, 0, 1, 1, 1, 1, 1, 2, 3, 3, 4, 5, 13, 6, 14, 8, 9, 6, 18, 11, 15, 15, 15, 15, 23, 18, 21, 21, 18, 11, 13, 5, 17, 15, 16, 9, 10, 12, 21, 19, 22, 16, 28, 5, 19, 8, 11, 4, 14, 3, 8, 6, 8, 0, 2, 4, 1, 3, 1, 1, 4, 0, 2, 0, 1, 0, 2, 1, 0, 0, 0, 0, 0, 0, 1, 0, 0, 0, 0, 0, 0, 0, 0, 0, 1, 0, 0, 0, 1, 0, 1, 0, 0, 0, 0, 0, 2, 0, 0, 0, 1, 0, 0, 0, 0, 0, 0, 0, 0, 0, 0, 0, 0, 0, 0, 0, 0, 0, 0, 0, 0, 0, 1, 0, 1, 0, 1]\n"
     ]
    }
   ],
   "source": [
    "size=list(range(0,max_size+1))\n",
    "print(size)\n",
    "freq = [0]*(max_size+1)\n",
    "for num in num_list:\n",
    "    freq[num] += 1\n",
    "print(freq)"
   ]
  },
  {
   "cell_type": "code",
   "execution_count": 9,
   "metadata": {
    "collapsed": true
   },
   "outputs": [],
   "source": [
    "import matplotlib.pyplot as plt\n",
    "plt.plot(size,freq , 'ro-',markerfacecolor='white',label=\"Protein\",linewidth=0.5, markersize=7)\n",
    "plt.xlabel(\"#nodes\")\n",
    "plt.ylabel(\"#graphs\")\n",
    "plt.title('Graph Size Distribution')\n",
    "plt.legend(loc='best')\n",
    "plt.grid(linestyle='-', color='grey')\n",
    "plt.savefig('graph_size_distribution.eps', format='eps')"
   ]
  },
  {
   "cell_type": "code",
   "execution_count": null,
   "metadata": {
    "collapsed": true
   },
   "outputs": [],
   "source": []
  }
 ],
 "metadata": {
  "kernelspec": {
   "display_name": "Python 3",
   "language": "python",
   "name": "python3"
  },
  "language_info": {
   "codemirror_mode": {
    "name": "ipython",
    "version": 3
   },
   "file_extension": ".py",
   "mimetype": "text/x-python",
   "name": "python",
   "nbconvert_exporter": "python",
   "pygments_lexer": "ipython3",
   "version": "3.5.4"
  }
 },
 "nbformat": 4,
 "nbformat_minor": 2
}
