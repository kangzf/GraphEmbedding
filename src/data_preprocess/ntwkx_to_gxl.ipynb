{
 "cells": [
  {
   "cell_type": "code",
   "execution_count": 1,
   "metadata": {},
   "outputs": [],
   "source": [
    "import networkx as nx\n",
    "import sys\n",
    "import os\n",
    "from bs4 import BeautifulSoup as Soup"
   ]
  },
  {
   "cell_type": "code",
   "execution_count": 2,
   "metadata": {},
   "outputs": [
    {
     "name": "stdout",
     "output_type": "stream",
     "text": [
      "1.10\n"
     ]
    }
   ],
   "source": [
    "from networkx import release\n",
    "print(release.version)"
   ]
  },
  {
   "cell_type": "code",
   "execution_count": 43,
   "metadata": {},
   "outputs": [],
   "source": [
    "def create_graph(edges):\n",
    "    g = nx.Graph()\n",
    "    for edge in edges:\n",
    "        g.add_edge(*edge)\n",
    "    return g\n",
    "\n",
    "g0 = create_graph([(0, 1), (0, 2), (0, 3), (0, 4), (4, 5), (5, 6), \\\n",
    "                   (6, 7), (7, 5)])\n",
    "g1 = create_graph([(0, 1), (2, 3)])\n",
    "nx.set_node_attributes(g0, 'atom_type', {0: 'carbon', 1: 'oxygen'})\n",
    "nx.set_node_attributes(g1, 'atom_type', {0: 'oxygen', 1: 'nitrogen'})\n",
    "\n",
    "\n",
    "nx.set_node_attributes(g0, 'strawberry', {0: -0.01, 1: 3.61423, 2: 1423})\n",
    "\n",
    "\n",
    "nx.set_edge_attributes(g0, 'some_label_1', {(0, 1): -1, (0, 2): -5, (7, \\\n",
    "                                                                     5): 2.0})\n",
    "\n",
    "nx.set_edge_attributes(g0, 'some_label_2', {(0, 1): 1, (0, 2): 5, (7, 5): 2})\n",
    "\n",
    "nx.set_edge_attributes(g0, 'some_label_3', {(0, 1): True, (0, 2): False})\n",
    "\n",
    "nx.set_edge_attributes(g0, 'some_label_4', {(0, 1): True, (0, 2): -0.9, \\\n",
    "                                            (4, 5): 'xxx', (7, 5): '', \\\n",
    "                                            (5, 6): None})\n",
    "\n",
    "nx.set_edge_attributes(g0, 'some_label_5', {(0, 1): True, (0, 2): None})\n",
    "\n",
    "nx.set_edge_attributes(g0, 'some_label_6', {(0, 1): True, (0, 2): [False]})\n",
    "\n",
    "\n",
    "#add some new attributes to g1\n",
    "nx.set_node_attributes(g1, 'gas', {0: 'oxygen', 2:'hydrigen' ,3: 'nitrogen'})\n",
    "nx.set_node_attributes(g1, 'float_number', {0: 3.3, 2:2.2 ,3: 4.4})\n",
    "nx.set_node_attributes(g1, 'int_number', {0: 0, 2:2 ,3: 3})\n",
    "nx.set_node_attributes(g1, 'bool_value', {0: True, 2:True ,3: False})\n",
    "\n",
    "nx.set_edge_attributes(g1, 'some_label_int', {(0, 1): 1, (2, 3): 5})\n",
    "nx.set_edge_attributes(g1, 'some_label_float', {(0, 1): 1.1, (2, 3): 5.5})\n",
    "nx.set_edge_attributes(g1, 'some_label_bool', {(0, 1): True, (2, 3): False})\n",
    "nx.set_edge_attributes(g1, 'some_label_string', {(0, 1): \"hahaha\"})\n",
    "\n",
    "\n",
    "# TODO\n",
    "# convert_to_gxl(g0, 'g0.gxl')\n",
    "# convert_to_gxl(g1, 'g1.gxl')\n"
   ]
  },
  {
   "cell_type": "code",
   "execution_count": 44,
   "metadata": {},
   "outputs": [],
   "source": [
    "def convert_to_gxl(G, graph_id, graph_edgeids, graph_edgemode, filename):\n",
    "    #create a new soup to write to gxl file\n",
    "    tagText = '''\n",
    "                 <!DOCTYPE gxl SYSTEM \"http://www.gupro.de/GXL/gxl-1.0.dtd\">\n",
    "                 <gxl>\n",
    "                 <graph id=\"\" edgeids=\"\" edgemode=\"\">\n",
    "                 </graph></gxl>'''\n",
    "    soup = Soup(tagText, \"xml\")\n",
    "    graph = soup.findAll('graph')[0]\n",
    "    graph.attrs['id'] = graph_id\n",
    "    graph.attrs['edgeids'] = graph_edgeids\n",
    "    graph.attrs['edgemode'] = graph_edgemode\n",
    "    # nodes\n",
    "    error_sen = \"\"\n",
    "    nodeAttrName_type = {}\n",
    "    for nodeID in G.nodes():\n",
    "        for k, v in G.node[nodeID].items(): #G.node[nodeID] is attr key-value dict\n",
    "            if (k in nodeAttrName_type) and (nodeAttrName_type[k] == None):\n",
    "                nodeAttrName_type[k] == None #do nothing\n",
    "            elif (k in nodeAttrName_type) and (type(v) != nodeAttrName_type[k]) : \n",
    "                nodeAttrName_type[k] = None # None -- this attribute will be deleted forever for every node\n",
    "                error_sen = \"Error! Inconsistent data type -- \"+\"nodeID: \"+str(nodeID)+\"; Attribute name: \"+k+\"\\n\"+\\\n",
    "                            \"\\t\\t   Should be \"+str(nodeAttrName_type[k])+\", but \"+str(type(v))+\" is found\"+\"\\n\"+\\\n",
    "                            \"\\t\\t   Graph \"+graph_id+\": deleted inconsistent attribute \"+k+\"!\"\n",
    "                print(error_sen)\n",
    "            elif k not in nodeAttrName_type:\n",
    "                if isinstance(v, str) or isinstance(v, bool) or isinstance(v, int) or isinstance(v, float):\n",
    "                    nodeAttrName_type[k] = type(v)\n",
    "                else:\n",
    "                    nodeAttrName_type[k] = None\n",
    "                    error_sen = \"Error! Wrong data type -- \"+\"nodeID: \"+str(nodeID)+\"; Attribute name: \"+k+\"\\n\"+\\\n",
    "                                \"\\t\\t   Should be int/float/string/bool, but \"+str(type(v))+\" is found\"+\"\\n\"+\\\n",
    "                                \"\\t\\t   Graph \"+graph_id+\": deleted invalid attribute \"+k+\"!\"\n",
    "                    print(error_sen)\n",
    "            else: #valid and consistent\n",
    "                nodeAttrName_type[k] = type(v) #do nothing\n",
    "    for nodeID in G.nodes():\n",
    "        node_tag = soup.new_tag(\"node\", id=nodeID)\n",
    "        for k, v in G.node[nodeID].items(): #G.node[nodeID] is attr key-value dict\n",
    "            if nodeAttrName_type[k] == None :\n",
    "                continue\n",
    "            attr_type = ''\n",
    "            if isinstance(v, str):\n",
    "                attr_type = 'string'\n",
    "            elif isinstance(v, bool):\n",
    "                attr_type = 'bool'\n",
    "            elif isinstance(v, int):\n",
    "                attr_type = 'int'\n",
    "            elif isinstance(v, float):\n",
    "                attr_type = 'float'\n",
    "            attr_tag = soup.new_tag(\"attr\")\n",
    "            attr_tag.attrs['name'] = k\n",
    "            type_tag = soup.new_tag(attr_type)\n",
    "            type_tag.string = str(v)\n",
    "            attr_tag.append(type_tag)\n",
    "            node_tag.append(attr_tag)\n",
    "        graph.append(node_tag)\n",
    "    # edges\n",
    "    edgeAttrName_type = {}\n",
    "    for edge in G.edges():\n",
    "        for k, v in G[edge[0]][edge[1]].items(): #G[edge[0]][edge[1]] is attr key-value dict\n",
    "            if (k in edgeAttrName_type) and (edgeAttrName_type[k] == None):\n",
    "                edgeAttrName_type[k] == None #do nothing\n",
    "            elif (k in edgeAttrName_type) and (type(v) != edgeAttrName_type[k]) :\n",
    "                edgeAttrName_type[k] = None\n",
    "                error_sen = \"Error! Inconsistent data type -- \"+\"start_id: \"+str(edge[0])+\"; end_id: \"+str(edge[1])+\"; Attribute name: \"+k+\"\\n\"+\\\n",
    "                      \"\\t\\t   Should be \"+str(edgeAttrName_type[k])+\", but \"+str(type(v))+\" is found\"+\"\\n\"+\\\n",
    "                      \"\\t\\t   Graph \"+graph_id+\": deleted inconsistent attribute \"+k+\"!\"\n",
    "                print(error_sen)\n",
    "            elif k not in edgeAttrName_type:\n",
    "                if isinstance(v, str) or isinstance(v, bool) or isinstance(v, int) or isinstance(v, float):\n",
    "                    edgeAttrName_type[k] = type(v)\n",
    "                else:\n",
    "                    edgeAttrName_type[k] = None\n",
    "                    error_sen = \"Error! Wrong data type -- \"+\"start_id: \"+str(edge[0])+\"; end_id: \"+str(edge[1])+\"; Attribute name: \"+k+\"\\n\"+\\\n",
    "                                \"\\t\\t   Should be int/float/string/bool, but \"+str(type(v))+\" is found\"+\"\\n\"+\\\n",
    "                                \"\\t\\t   Graph \"+graph_id+\": deleted invalid attribute \"+k+\"!\"\n",
    "                    print(error_sen)\n",
    "            else: #valid and consistent\n",
    "                edgeAttrName_type[k] = type(v) #do nothing\n",
    "    for edge in G.edges():\n",
    "        edge_tag = soup.new_tag(\"edge\", to=edge[1])\n",
    "        edge_tag.attrs['from'] = edge[0]\n",
    "        for k, v in G[edge[0]][edge[1]].items(): #G[edge[0]][edge[1]] is attr key-value dict\n",
    "            if edgeAttrName_type[k] == None :\n",
    "                continue\n",
    "            attr_type = ''\n",
    "            if isinstance(v, str):\n",
    "                attr_type = \"string\"\n",
    "            elif isinstance(v, bool):\n",
    "                attr_type = \"bool\"\n",
    "            elif isinstance(v, int):\n",
    "                attr_type = \"int\"\n",
    "            elif isinstance(v, float):\n",
    "                attr_type = \"float\"\n",
    "            attr_tag = soup.new_tag(\"attr\")\n",
    "            attr_tag.attrs['name'] = k\n",
    "            type_tag = soup.new_tag(attr_type)\n",
    "            type_tag.string = str(v)\n",
    "            attr_tag.append(type_tag)\n",
    "            edge_tag.append(attr_tag)\n",
    "        graph.append(edge_tag)\n",
    "    #save to gxl file\n",
    "    print(\"Only keep the consistent and valid attributes in networkx graph \"+graph_id+\", converting ......\" )\n",
    "    if not os.path.exists('./mygxl'):\n",
    "        os.makedirs('./mygxl')\n",
    "    with open('./mygxl/'+filename, 'w') as f:\n",
    "        for line in soup.prettify():\n",
    "            f.write(str(line)) \n",
    "    print(\"Done!\")"
   ]
  },
  {
   "cell_type": "code",
   "execution_count": 45,
   "metadata": {},
   "outputs": [
    {
     "name": "stdout",
     "output_type": "stream",
     "text": [
      "Error! Inconsistent data type -- nodeID: 2; Attribute name: strawberry\n",
      "\t\t   Should be None, but <class 'int'> is found\n",
      "\t\t   Graph g0: deleted inconsistent attribute strawberry!\n",
      "Error! Inconsistent data type -- start_id: 0; end_id: 2; Attribute name: some_label_6\n",
      "\t\t   Should be None, but <class 'list'> is found\n",
      "\t\t   Graph g0: deleted inconsistent attribute some_label_6!\n",
      "Error! Inconsistent data type -- start_id: 0; end_id: 2; Attribute name: some_label_5\n",
      "\t\t   Should be None, but <class 'NoneType'> is found\n",
      "\t\t   Graph g0: deleted inconsistent attribute some_label_5!\n",
      "Error! Inconsistent data type -- start_id: 0; end_id: 2; Attribute name: some_label_4\n",
      "\t\t   Should be None, but <class 'float'> is found\n",
      "\t\t   Graph g0: deleted inconsistent attribute some_label_4!\n",
      "Error! Inconsistent data type -- start_id: 5; end_id: 7; Attribute name: some_label_1\n",
      "\t\t   Should be None, but <class 'float'> is found\n",
      "\t\t   Graph g0: deleted inconsistent attribute some_label_1!\n",
      "Only keep the consistent and valid attributes in networkx graph g0, converting ......\n",
      "Done!\n"
     ]
    }
   ],
   "source": [
    "graph_id_default = 'unkown'\n",
    "graph_edgeids_default = 'false'\n",
    "graph_edgemode_default = 'undirected'\n",
    "\n",
    "#???networkx make smaller id as source, bigger as target\n",
    "convert_to_gxl(g0, \"g0\", graph_edgeids_default, graph_edgemode_default,'g0.gxl')"
   ]
  },
  {
   "cell_type": "code",
   "execution_count": 42,
   "metadata": {},
   "outputs": [
    {
     "name": "stdout",
     "output_type": "stream",
     "text": [
      "Only keep the consistent and valid attributes in networkx graph g1, converting ......\n",
      "Done!\n"
     ]
    }
   ],
   "source": [
    "convert_to_gxl(g1, \"g1\", graph_edgeids_default, graph_edgemode_default,'g1.gxl')"
   ]
  },
  {
   "cell_type": "code",
   "execution_count": 87,
   "metadata": {
    "scrolled": true
   },
   "outputs": [],
   "source": [
    "\n"
   ]
  },
  {
   "cell_type": "code",
   "execution_count": null,
   "metadata": {},
   "outputs": [],
   "source": []
  },
  {
   "cell_type": "code",
   "execution_count": null,
   "metadata": {},
   "outputs": [],
   "source": []
  },
  {
   "cell_type": "code",
   "execution_count": null,
   "metadata": {},
   "outputs": [],
   "source": []
  }
 ],
 "metadata": {
  "kernelspec": {
   "display_name": "Python 3",
   "language": "python",
   "name": "python3"
  },
  "language_info": {
   "codemirror_mode": {
    "name": "ipython",
    "version": 3
   },
   "file_extension": ".py",
   "mimetype": "text/x-python",
   "name": "python",
   "nbconvert_exporter": "python",
   "pygments_lexer": "ipython3",
   "version": "3.5.4"
  }
 },
 "nbformat": 4,
 "nbformat_minor": 2
}
