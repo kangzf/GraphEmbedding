{
 "cells": [
  {
   "cell_type": "code",
   "execution_count": 5,
   "metadata": {
    "collapsed": true
   },
   "outputs": [],
   "source": [
    "#####**************** put this file at the same file with .graphml files, and then run *********##########\n",
    "\n",
    "import sys\n",
    "from bs4 import BeautifulSoup as Soup"
   ]
  },
  {
   "cell_type": "code",
   "execution_count": 12,
   "metadata": {
    "collapsed": true
   },
   "outputs": [],
   "source": [
    "def convert(filename):\n",
    "    #open graphgm file to read\n",
    "    handler = open(filename).read()\n",
    "    soup = Soup(handler, \"xml\")\n",
    "    #create a new soup to write to new gexf file\n",
    "    tagText = '''\n",
    "                 <gexf version=\"1.1\" xmlns=\"http://www.gexf.net/1.1draft\" xmlns:viz=\"http://www.gexf.net/1.1draft/viz\" xmlns:xsi=\"http://www.w3.org/2001/XMLSchema-instance\" xsi:schemaLocation=\"http://www.w3.org/2001/XMLSchema-instance\">\n",
    "                  <graph defaultedgetype=\"undirected\" mode=\"static\">\n",
    "                    <attributes class=\"node\" mode=\"static\">\n",
    "                      <attribute id=\"0\" title=\"node_class\" type=\"string\" />\n",
    "                    </attributes>\n",
    "                    <nodes>\n",
    "                    </nodes>\n",
    "                    <edges>\n",
    "                    </edges>\n",
    "                  </graph>\n",
    "                </gexf>'''\n",
    "    \n",
    "    soup_result = Soup(tagText, \"xml\")\n",
    "    #add start brackets to gexf\n",
    "    #parse node data from graphml and put each node entry to gexf\n",
    "    nodes_tag = soup_result.nodes\n",
    "    for node in soup.findAll('node'):\n",
    "        node_attrs = dict(node.attrs)\n",
    "        node_id = (node_attrs[u'id'])[1:]\n",
    "        #print(\"node_id\", node_id)\n",
    "        node_data = node.find('data')\n",
    "        node_data_attrs = dict(node_data.attrs)\n",
    "        node_data_key = node_data_attrs[u'key']\n",
    "        #print(\"node_data_key\", node_data_key)\n",
    "        node_label = int(node_data.contents[0])\n",
    "        #print(\"node_label\",node_label)\n",
    "        node_tag = soup_result.new_tag(\"node\", id=node_id, label=node_id)\n",
    "        attvalues_tag = soup_result.new_tag(\"attvalues\")\n",
    "        #attvalue_tag = Soup('<attvalue for=\"0\" value=\"'+str(node_label)+'\"/>', \"xml\")\n",
    "        attvalue_tag = soup_result.new_tag(\"attvalue\", value=node_label)\n",
    "        attvalues_tag.append(attvalue_tag)\n",
    "        node_tag.append(attvalues_tag)\n",
    "        nodes_tag.append(node_tag)\n",
    "    #parse edge data from graphml and put each edge entry to gexf\n",
    "    edges_tag = soup_result.edges\n",
    "    edge_index = 0\n",
    "    for edge in soup.findAll('edge'):\n",
    "        edge_attrs = dict(edge.attrs)\n",
    "        edge_start = (edge_attrs[u'source'])[1:]\n",
    "        edge_end = (edge_attrs[u'target'])[1:]\n",
    "        #print(\"edge_start\",edge_start)\n",
    "        #print(\"edge_end\",edge_end)\n",
    "        edge_tag = soup_result.new_tag(\"edge\", id=edge_index, source=edge_start, target=edge_end, weight=\"1\")\n",
    "        edges_tag.append(edge_tag)\n",
    "        edge_index += 1\n",
    "    #add for attributes\n",
    "    attList = soup_result.findAll('attvalue')\n",
    "    for att in attList:\n",
    "        att.attrs['for'] = 0\n",
    "    #save to gefx file\n",
    "    sep = '.'\n",
    "    rest = filename.split(sep, 1)[0]\n",
    "    output_filename = rest+\".gexf\"\n",
    "    with open('../enzymes_gexf_from_graphml/'+output_filename, 'w') as f:\n",
    "        for line in soup_result.prettify():\n",
    "            f.write(str(line))\n",
    "    "
   ]
  },
  {
   "cell_type": "code",
   "execution_count": 13,
   "metadata": {
    "collapsed": true
   },
   "outputs": [],
   "source": [
    "import os"
   ]
  },
  {
   "cell_type": "code",
   "execution_count": 14,
   "metadata": {},
   "outputs": [
    {
     "name": "stdout",
     "output_type": "stream",
     "text": [
      "600\n"
     ]
    }
   ],
   "source": [
    "count = 0\n",
    "for filename in os.listdir(\".\"):\n",
    "    if filename.endswith(\".graphml\"):\n",
    "        convert(filename)\n",
    "        count +=1\n",
    "print(count)"
   ]
  },
  {
   "cell_type": "code",
   "execution_count": null,
   "metadata": {
    "collapsed": true
   },
   "outputs": [],
   "source": [
    "\n",
    "    \n",
    "    \n",
    "    "
   ]
  },
  {
   "cell_type": "code",
   "execution_count": null,
   "metadata": {
    "collapsed": true
   },
   "outputs": [],
   "source": [
    "\n",
    "    "
   ]
  }
 ],
 "metadata": {
  "kernelspec": {
   "display_name": "Python 3",
   "language": "python",
   "name": "python3"
  },
  "language_info": {
   "codemirror_mode": {
    "name": "ipython",
    "version": 3
   },
   "file_extension": ".py",
   "mimetype": "text/x-python",
   "name": "python",
   "nbconvert_exporter": "python",
   "pygments_lexer": "ipython3",
   "version": "3.6.3"
  }
 },
 "nbformat": 4,
 "nbformat_minor": 2
}
