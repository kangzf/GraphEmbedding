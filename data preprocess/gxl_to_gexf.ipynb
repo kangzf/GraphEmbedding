{
 "cells": [
  {
   "cell_type": "code",
   "execution_count": 5,
   "metadata": {
    "collapsed": true
   },
   "outputs": [],
   "source": [
    "#####**************** put this file at the same file with .gxl files, and then run *********##########\n",
    "\n",
    "import sys\n",
    "from bs4 import BeautifulSoup as Soup"
   ]
  },
  {
   "cell_type": "code",
   "execution_count": 9,
   "metadata": {
    "collapsed": true
   },
   "outputs": [],
   "source": [
    "def convert(filename):\n",
    "    #open graphgm file to read\n",
    "    handler = open(filename).read()\n",
    "    soup = Soup(handler, \"xml\")\n",
    "    #create a new soup to write to new gexf file\n",
    "    tagText = '''\n",
    "                 <gexf version=\"1.1\" xmlns=\"http://www.gexf.net/1.1draft\" xmlns:viz=\"http://www.gexf.net/1.1draft/viz\" xmlns:xsi=\"http://www.w3.org/2001/XMLSchema-instance\" xsi:schemaLocation=\"http://www.w3.org/2001/XMLSchema-instance\">\n",
    "                  <graph defaultedgetype=\"undirected\" mode=\"static\">\n",
    "                    <attributes class=\"node\" mode=\"static\">\n",
    "                      <attribute id=\"0\" title=\"node_class\" type=\"string\" />\n",
    "                    </attributes>\n",
    "                    <nodes>\n",
    "                    </nodes>\n",
    "                    <edges>\n",
    "                    </edges>\n",
    "                  </graph>\n",
    "                </gexf>'''\n",
    "    \n",
    "    soup_result = Soup(tagText, \"xml\")\n",
    "    #add start brackets to gexf\n",
    "    #parse node data from graphml and put each node entry to gexf\n",
    "    nodes_tag = soup_result.nodes\n",
    "    for node in soup.findAll('node'):\n",
    "        node_attrs = dict(node.attrs)\n",
    "        node_id = int(node_attrs[u'id'])-1\n",
    "        #print(\"node_id\", node_id)\n",
    "        node_label = 0\n",
    "        aaLength_v = 0 #edge label\n",
    "        sequence_v = \"\"\n",
    "        for attr in node.findAll('attr'):\n",
    "            if dict(attr.attrs)[u'name'] == 'type':\n",
    "                node_label = (attr.findAll('int')[0]).text\n",
    "            if dict(attr.attrs)[u'name'] == 'aaLength':\n",
    "                aaLength_v = (attr.findAll('int')[0]).text\n",
    "            if dict(attr.attrs)[u'name'] == 'sequence':\n",
    "                sequence_v = (attr.findAll('int')[0]).text\n",
    "        node_tag = soup_result.new_tag(\"node\", id=node_id, label=node_id)\n",
    "        attvalues_tag = soup_result.new_tag(\"attvalues\")\n",
    "        #attvalue_tag = Soup('<attvalue for=\"0\" value=\"'+str(node_label)+'\"/>', \"xml\")\n",
    "        attvalue_tag = soup_result.new_tag(\"attvalue\", value=node_label, aaLength=aaLength_v,sequence=sequence_v )\n",
    "        attvalues_tag.append(attvalue_tag)\n",
    "        node_tag.append(attvalues_tag)\n",
    "        nodes_tag.append(node_tag)\n",
    "    #parse edge data from graphml and put each edge entry to gexf\n",
    "    edges_tag = soup_result.edges\n",
    "    edge_index = 0\n",
    "    for edge in soup.findAll('edge'):\n",
    "        edge_attrs = dict(edge.attrs)\n",
    "        start = int(edge_attrs[u'from'])-1\n",
    "        end = int(edge_attrs[u'to'])-1\n",
    "        frequency_v = 0\n",
    "        type0_v = 0 #edge label\n",
    "        distance0_v = 0\n",
    "        for attr in edge.findAll('attr'):\n",
    "            if dict(attr.attrs)[u'name'] == 'frequency':\n",
    "                frequency_v = (attr.findAll('int')[0]).text\n",
    "            if dict(attr.attrs)[u'name'] == 'type0':\n",
    "                type0_v = (attr.findAll('double')[0]).text\n",
    "            if dict(attr.attrs)[u'name'] == 'distance0':\n",
    "                distance0_v = (attr.findAll('double')[0]).text\n",
    "        edge_tag = soup_result.new_tag(\"edge\", id=edge_index, source=start, target=end, \n",
    "                                       weight=\"1\",frequency=frequency_v, type0=type0_v, distance0=distance0_v)\n",
    "        edges_tag.append(edge_tag)\n",
    "        edge_index += 1\n",
    "    #add for attributes to each node\n",
    "    attList = soup_result.findAll('attvalue')\n",
    "    for att in attList:\n",
    "        att.attrs['for'] = 0\n",
    "    #save to gexf file\n",
    "    sep = '.'\n",
    "    rest = filename.split(sep, 1)[0]\n",
    "    output_filename = rest+\".gexf\"\n",
    "    with open('../enzymes_gexf_from_gxl/'+output_filename, 'w') as f:\n",
    "        for line in soup_result.prettify():\n",
    "            f.write(str(line))\n",
    "    "
   ]
  },
  {
   "cell_type": "code",
   "execution_count": 10,
   "metadata": {
    "collapsed": true
   },
   "outputs": [],
   "source": [
    "import os"
   ]
  },
  {
   "cell_type": "code",
   "execution_count": 11,
   "metadata": {},
   "outputs": [
    {
     "name": "stdout",
     "output_type": "stream",
     "text": [
      "600\n"
     ]
    }
   ],
   "source": [
    "count = 0\n",
    "for filename in os.listdir(\".\"):\n",
    "    if filename.endswith(\".gxl\"):\n",
    "        convert(filename)\n",
    "        count +=1\n",
    "print(count)"
   ]
  },
  {
   "cell_type": "code",
   "execution_count": null,
   "metadata": {
    "collapsed": true
   },
   "outputs": [],
   "source": []
  }
 ],
 "metadata": {
  "kernelspec": {
   "display_name": "Python 3",
   "language": "python",
   "name": "python3"
  },
  "language_info": {
   "codemirror_mode": {
    "name": "ipython",
    "version": 3
   },
   "file_extension": ".py",
   "mimetype": "text/x-python",
   "name": "python",
   "nbconvert_exporter": "python",
   "pygments_lexer": "ipython3",
   "version": "3.6.3"
  }
 },
 "nbformat": 4,
 "nbformat_minor": 2
}
